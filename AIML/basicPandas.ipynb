{
 "cells": [
  {
   "cell_type": "markdown",
   "metadata": {},
   "source": [
    "Importing Libraries"
   ]
  },
  {
   "cell_type": "code",
   "execution_count": 2,
   "metadata": {},
   "outputs": [],
   "source": [
    "import pandas as pd\n",
    "data = pd.read_csv(\"housing.csv\")"
   ]
  },
  {
   "cell_type": "markdown",
   "metadata": {},
   "source": [
    "Printing Rows and Columns"
   ]
  },
  {
   "cell_type": "code",
   "execution_count": 3,
   "metadata": {},
   "outputs": [
    {
     "name": "stdout",
     "output_type": "stream",
     "text": [
      "No of Rows:  505\n"
     ]
    }
   ],
   "source": [
    "rows=data.shape[0]\n",
    "print(\"No of Rows: \",rows)"
   ]
  },
  {
   "cell_type": "code",
   "execution_count": 4,
   "metadata": {},
   "outputs": [
    {
     "name": "stdout",
     "output_type": "stream",
     "text": [
      "No of Columns:  14\n"
     ]
    }
   ],
   "source": [
    "col=data.shape[1]\n",
    "print(\"No of Columns: \",col)"
   ]
  },
  {
   "cell_type": "markdown",
   "metadata": {},
   "source": [
    "First Five Data Printout"
   ]
  },
  {
   "cell_type": "code",
   "execution_count": 13,
   "metadata": {},
   "outputs": [
    {
     "name": "stdout",
     "output_type": "stream",
     "text": [
      "First Five Rows:\n",
      "    0.00632  18.00  2.310  0  0.5380  6.5750  65.20  4.0900  1  296.0  15.30  \\\n",
      "0  0.02731    0.0   7.07  0   0.469   6.421   78.9  4.9671  2  242.0   17.8   \n",
      "1  0.02729    0.0   7.07  0   0.469   7.185   61.1  4.9671  2  242.0   17.8   \n",
      "2  0.03237    0.0   2.18  0   0.458   6.998   45.8  6.0622  3  222.0   18.7   \n",
      "3  0.06905    0.0   2.18  0   0.458   7.147   54.2  6.0622  3  222.0   18.7   \n",
      "4  0.02985    0.0   2.18  0   0.458   6.430   58.7  6.0622  3  222.0   18.7   \n",
      "\n",
      "   396.90  4.98  24.00  \n",
      "0  396.90  9.14   21.6  \n",
      "1  392.83  4.03   34.7  \n",
      "2  394.63  2.94   33.4  \n",
      "3  396.90  5.33   36.2  \n",
      "4  394.12  5.21   28.7  \n"
     ]
    }
   ],
   "source": [
    "firstFive=data.head(5)\n",
    "print(\"First Five Rows:\\n\", firstFive)"
   ]
  },
  {
   "cell_type": "markdown",
   "metadata": {},
   "source": [
    "Total Number of Data(Rows*Columns)"
   ]
  },
  {
   "cell_type": "code",
   "execution_count": 6,
   "metadata": {},
   "outputs": [
    {
     "name": "stdout",
     "output_type": "stream",
     "text": [
      "7070\n"
     ]
    }
   ],
   "source": [
    "size = data.size\n",
    "print(size)"
   ]
  },
  {
   "cell_type": "markdown",
   "metadata": {},
   "source": [
    "Null datapoints"
   ]
  },
  {
   "cell_type": "code",
   "execution_count": 7,
   "metadata": {},
   "outputs": [
    {
     "name": "stdout",
     "output_type": "stream",
     "text": [
      "0\n"
     ]
    }
   ],
   "source": [
    "missing=data.isnull().sum().sum()\n",
    "print(missing)"
   ]
  },
  {
   "cell_type": "markdown",
   "metadata": {},
   "source": [
    "Selecting only the number dataset for Mathamatical Functions"
   ]
  },
  {
   "cell_type": "markdown",
   "metadata": {},
   "source": [
    "Taking out Sum, Mean, Min and Max"
   ]
  },
  {
   "cell_type": "code",
   "execution_count": 14,
   "metadata": {},
   "outputs": [
    {
     "name": "stdout",
     "output_type": "stream",
     "text": [
      "Sum:\n",
      " 0.00632      1828.4366\n",
      "18.00        5732.0000\n",
      "2.310        5632.9000\n",
      "0              35.0000\n",
      "0.5380        280.1377\n",
      "6.5750       3173.4500\n",
      "65.20       34633.7000\n",
      "4.0900       1916.2016\n",
      "1            4831.0000\n",
      "296.0      206272.0000\n",
      "15.30        9323.2000\n",
      "396.90     180080.1600\n",
      "4.98         6397.4700\n",
      "24.00       11377.6000\n",
      "dtype: float64\n"
     ]
    }
   ],
   "source": [
    "data2 = data.select_dtypes(include='number')\n",
    "print(\"Sum:\\n\", data2.sum())"
   ]
  },
  {
   "cell_type": "code",
   "execution_count": 9,
   "metadata": {},
   "outputs": [
    {
     "name": "stdout",
     "output_type": "stream",
     "text": [
      "Average: \n",
      " 0.00632      3.620667\n",
      "18.00       11.350495\n",
      "2.310       11.154257\n",
      "0            0.069307\n",
      "0.5380       0.554728\n",
      "6.5750       6.284059\n",
      "65.20       68.581584\n",
      "4.0900       3.794459\n",
      "1            9.566337\n",
      "296.0      408.459406\n",
      "15.30       18.461782\n",
      "396.90     356.594376\n",
      "4.98        12.668257\n",
      "24.00       22.529901\n",
      "dtype: float64\n"
     ]
    }
   ],
   "source": [
    "print(\"Average: \\n\",data2.mean())"
   ]
  },
  {
   "cell_type": "code",
   "execution_count": 10,
   "metadata": {},
   "outputs": [
    {
     "name": "stdout",
     "output_type": "stream",
     "text": [
      "Min: 0.00632      0.00906\n",
      "18.00        0.00000\n",
      "2.310        0.46000\n",
      "0            0.00000\n",
      "0.5380       0.38500\n",
      "6.5750       3.56100\n",
      "65.20        2.90000\n",
      "4.0900       1.12960\n",
      "1            1.00000\n",
      "296.0      187.00000\n",
      "15.30       12.60000\n",
      "396.90       0.32000\n",
      "4.98         1.73000\n",
      "24.00        5.00000\n",
      "dtype: float64\n"
     ]
    }
   ],
   "source": [
    "print(\"Min:\", data2.min())\n"
   ]
  },
  {
   "cell_type": "code",
   "execution_count": 11,
   "metadata": {},
   "outputs": [
    {
     "name": "stdout",
     "output_type": "stream",
     "text": [
      "Max: 0.00632     88.9762\n",
      "18.00      100.0000\n",
      "2.310       27.7400\n",
      "0            1.0000\n",
      "0.5380       0.8710\n",
      "6.5750       8.7800\n",
      "65.20      100.0000\n",
      "4.0900      12.1265\n",
      "1           24.0000\n",
      "296.0      711.0000\n",
      "15.30       22.0000\n",
      "396.90     396.9000\n",
      "4.98        37.9700\n",
      "24.00       50.0000\n",
      "dtype: float64\n"
     ]
    }
   ],
   "source": [
    "print(\"Max:\", data2.max())\n"
   ]
  },
  {
   "cell_type": "code",
   "execution_count": 12,
   "metadata": {},
   "outputs": [],
   "source": [
    "Max=data.max()\n",
    "Max.to_csv(\"Max.csv\")"
   ]
  }
 ],
 "metadata": {
  "kernelspec": {
   "display_name": "Python 3",
   "language": "python",
   "name": "python3"
  },
  "language_info": {
   "codemirror_mode": {
    "name": "ipython",
    "version": 3
   },
   "file_extension": ".py",
   "mimetype": "text/x-python",
   "name": "python",
   "nbconvert_exporter": "python",
   "pygments_lexer": "ipython3",
   "version": "3.12.3"
  }
 },
 "nbformat": 4,
 "nbformat_minor": 2
}
